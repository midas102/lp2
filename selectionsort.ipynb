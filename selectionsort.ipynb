{
 "cells": [
  {
   "cell_type": "code",
   "execution_count": 1,
   "id": "1dfcbf9e-b454-4294-b3f9-6cda46737624",
   "metadata": {},
   "outputs": [
    {
     "name": "stdout",
     "output_type": "stream",
     "text": [
      "Selection Sort:\n",
      "Unsorted Array: [66, 25, 12, 22, 11] \n",
      "Sorted Array: [11, 12, 22, 25, 66]\n"
     ]
    }
   ],
   "source": [
    "def selectionSort(arr):\n",
    "    arrU = arr.copy()\n",
    "    for i in range(len(arr)):\n",
    "        min_idx = i\n",
    "        for j in range(i+1, len(arr)):\n",
    "            if arr[min_idx]> arr[j]:\n",
    "                min_idx = j\n",
    "        arr[i], arr[min_idx] = arr[min_idx], arr[i]\n",
    "    print(f'Selection Sort:\\nUnsorted Array: {arrU} \\nSorted Array: {arr}')\n",
    "\n",
    "if __name__ == '__main__':\n",
    "    arr = [66, 25, 12, 22, 11]\n",
    "    selectionSort(arr)"
   ]
  },
  {
   "cell_type": "code",
   "execution_count": null,
   "id": "170928df-c493-43bc-ad96-ccc3dfba27c7",
   "metadata": {},
   "outputs": [],
   "source": []
  }
 ],
 "metadata": {
  "kernelspec": {
   "display_name": "Python 3 (ipykernel)",
   "language": "python",
   "name": "python3"
  },
  "language_info": {
   "codemirror_mode": {
    "name": "ipython",
    "version": 3
   },
   "file_extension": ".py",
   "mimetype": "text/x-python",
   "name": "python",
   "nbconvert_exporter": "python",
   "pygments_lexer": "ipython3",
   "version": "3.10.6"
  }
 },
 "nbformat": 4,
 "nbformat_minor": 5
}
