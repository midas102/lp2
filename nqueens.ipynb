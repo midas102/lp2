{
 "cells": [
  {
   "cell_type": "code",
   "execution_count": 17,
   "id": "18bd8a51-8a30-4bd5-b503-fcd14d962f08",
   "metadata": {},
   "outputs": [
    {
     "name": "stdin",
     "output_type": "stream",
     "text": [
      "Enter the number of queens:  4\n"
     ]
    },
    {
     "name": "stdout",
     "output_type": "stream",
     "text": [
      "Solution 1 :\n",
      "0 1 0 0 \n",
      "0 0 0 1 \n",
      "1 0 0 0 \n",
      "0 0 1 0 \n",
      "\n",
      "Solution 2 :\n",
      "0 0 1 0 \n",
      "1 0 0 0 \n",
      "0 0 0 1 \n",
      "0 1 0 0 \n",
      "\n",
      "Total solutions: 2\n"
     ]
    }
   ],
   "source": [
    "def isSafe(board, row, col, N):\n",
    "    for i in range(row):\n",
    "        if board[i][col] == 1:\n",
    "            return False\n",
    "    i = row - 1\n",
    "    j = col - 1\n",
    "    while i >= 0 and j >= 0:\n",
    "        if board[i][j] == 1:\n",
    "            return False\n",
    "        i -= 1\n",
    "        j -= 1\n",
    "\n",
    "    i = row - 1\n",
    "    j = col + 1\n",
    "    while i >= 0 and j < N:\n",
    "        if board[i][j] == 1:\n",
    "            return False\n",
    "        i -= 1\n",
    "        j += 1\n",
    "\n",
    "    return True\n",
    "\n",
    "\n",
    "def solveNQueen(board, row, N, count):\n",
    "    if row == N:\n",
    "        count[0] += 1\n",
    "        print(\"Solution\", count[0], \":\")\n",
    "        for i in range(N):\n",
    "            for j in range(N):\n",
    "                print(board[i][j], end=\" \")\n",
    "            print()\n",
    "        print()\n",
    "        return\n",
    "\n",
    "    for col in range(N):\n",
    "        if isSafe(board, row, col, N):\n",
    "            board[row][col] = 1\n",
    "\n",
    "            solveNQueen(board, row + 1, N, count)\n",
    "\n",
    "            board[row][col] = 0\n",
    "\n",
    "\n",
    "\n",
    "N = int(input(\"Enter the number of queens: \"))\n",
    "board = [[0] * N for i in range(N)]\n",
    "count = [0]\n",
    "\n",
    "solveNQueen(board, 0, N, count)\n",
    "\n",
    "print(\"Total solutions:\", count[0])\n"
   ]
  },
  {
   "cell_type": "code",
   "execution_count": 21,
   "id": "ba9fa4e4-aece-4917-8350-a093ca0a4991",
   "metadata": {},
   "outputs": [
    {
     "name": "stdin",
     "output_type": "stream",
     "text": [
      "Enter the number of queens:  4\n"
     ]
    },
    {
     "name": "stdout",
     "output_type": "stream",
     "text": [
      "Solution 1 :\n",
      "0 1 0 0 \n",
      "0 0 0 1 \n",
      "1 0 0 0 \n",
      "0 0 1 0 \n",
      "\n",
      "Solution 2 :\n",
      "0 0 1 0 \n",
      "1 0 0 0 \n",
      "0 0 0 1 \n",
      "0 1 0 0 \n",
      "\n",
      "Total solutions: 2\n"
     ]
    }
   ],
   "source": [
    "def isSafe(board, row, col, N):\n",
    "    for i in range(row):\n",
    "        if board[i][col] == 1:\n",
    "            return False\n",
    "    i = row - 1\n",
    "    j = col - 1\n",
    "    while i >= 0 and j >= 0:\n",
    "        if board[i][j] == 1:\n",
    "            return False\n",
    "        i -= 1\n",
    "        j -= 1\n",
    "\n",
    "    i = row - 1\n",
    "    j = col + 1\n",
    "    while i >= 0 and j < N:\n",
    "        if board[i][j] == 1:\n",
    "            return False\n",
    "        i -= 1\n",
    "        j += 1\n",
    "\n",
    "    return True\n",
    "\n",
    "def solveNQueen(board, row, N, count):\n",
    "    if row == N:\n",
    "        count[0] += 1\n",
    "        print(\"Solution\", count[0], \":\")\n",
    "        for i in range(N):\n",
    "            for j in range(N):\n",
    "                print(board[i][j], end=\" \")\n",
    "            print()\n",
    "        print()\n",
    "        return\n",
    "\n",
    "    for col in range(N):\n",
    "        if isSafe(board, row, col, N):\n",
    "            board[row][col] = 1\n",
    "            if isValidPartialSolution(board, row, col, N):\n",
    "                solveNQueen(board, row + 1, N, count)\n",
    "            board[row][col] = 0\n",
    "\n",
    "def isValidPartialSolution(board, row, col, N):\n",
    "    for i in range(row +1, N):\n",
    "        if board[i][col] ==1:\n",
    "            return False\n",
    "        j = col - (i-row)\n",
    "        if j>=0 and board[i][j] ==1:\n",
    "            return False\n",
    "        j = col + (i-row)\n",
    "        if j<N and board[i][j] ==1:\n",
    "            return False\n",
    "    return True\n",
    "\n",
    "if __name__ == \"__main__\":\n",
    "    N = int(input(\"Enter the number of queens: \"))\n",
    "    board = [[0] * N for _ in range(N)]\n",
    "    count = [0]\n",
    "    solveNQueen(board, 0, N, count)\n",
    "    print(\"Total solutions:\", count[0])"
   ]
  },
  {
   "cell_type": "code",
   "execution_count": null,
   "id": "51c4b171-6fe2-4087-8e95-112e0aff0949",
   "metadata": {},
   "outputs": [],
   "source": []
  }
 ],
 "metadata": {
  "kernelspec": {
   "display_name": "Python 3 (ipykernel)",
   "language": "python",
   "name": "python3"
  },
  "language_info": {
   "codemirror_mode": {
    "name": "ipython",
    "version": 3
   },
   "file_extension": ".py",
   "mimetype": "text/x-python",
   "name": "python",
   "nbconvert_exporter": "python",
   "pygments_lexer": "ipython3",
   "version": "3.10.6"
  }
 },
 "nbformat": 4,
 "nbformat_minor": 5
}
