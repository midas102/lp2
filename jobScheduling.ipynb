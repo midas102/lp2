{
 "cells": [
  {
   "cell_type": "code",
   "execution_count": 6,
   "id": "c39bd47e-c7c3-4a61-bd83-668ccab1e683",
   "metadata": {},
   "outputs": [
    {
     "name": "stdout",
     "output_type": "stream",
     "text": [
      "\n",
      "Job Scheduling Problem: \n",
      " Following is the maximum profit sequence of jobs: [['A', 2], ['C', 2], ['E', 3]]\n"
     ]
    }
   ],
   "source": [
    "import heapq\n",
    "def jobScheduling(arr):\n",
    "    n = len(arr)\n",
    "    arr.sort(key=lambda x: x[1])\n",
    "    result = []\n",
    "    maxHeap = []\n",
    "    for i in range(n-1, -1, -1):\n",
    "        if i==0:\n",
    "            slots_available = arr[i][1]\n",
    "        else:\n",
    "            slots_available = arr[i][1] - arr[i-1][1]\n",
    "        heapq.heappush(maxHeap, (-arr[i][2], arr[i][1], arr[i][0]))\n",
    "        while slots_available and maxHeap:\n",
    "            profit, deadline, job_id = heapq.heappop(maxHeap)\n",
    "            slots_available-=1\n",
    "            result.append([job_id, deadline])\n",
    "    result.sort(key = lambda x: x[1])\n",
    "    print(f'\\nJob Scheduling Problem: \\n Following is the maximum profit sequence of jobs: {result}')\n",
    "if __name__ == \"__main__\":\n",
    "    A = [\n",
    "        ['A', 2, 100],\n",
    "        ['B', 1, 19],\n",
    "        ['C', 2, 27],\n",
    "        ['D', 1, 25],\n",
    "        ['E', 3, 15]\n",
    "    ]\n",
    "    jobScheduling(A)"
   ]
  },
  {
   "cell_type": "code",
   "execution_count": null,
   "id": "3ca61f7c-2899-4b5e-862d-1ffc3520c3f5",
   "metadata": {},
   "outputs": [],
   "source": [
    "def job_sequencing():\n",
    "    n=int(input(\"Enter the total number of jobs\"))\n",
    "    job=[]\n",
    "    deadline=[]\n",
    "    profit=[]\n",
    "    for i in range(n):\n",
    "        job.append(input(\"Enter the name of the job\"))\n",
    "        deadline.append(int(input(\"Enter the deadline of the job\")))\n",
    "        profit.append(int(input(\"Enter the profit of the job\")))\n",
    "\n",
    "    max_deadline=max(deadline)\n",
    "    schedule=[None]*max_deadline\n",
    "\n",
    "    sorted_jobs=sorted(zip(job,deadline,profit),key=lambda x:x[2], reverse=True)\n",
    "    print(sorted_jobs)\n",
    "\n",
    "    total_profit=0\n",
    "\n",
    "    for j in sorted_jobs:\n",
    "        current_deadline=j[1]\n",
    "        slot=current_deadline-1\n",
    "        while slot>=0:\n",
    "            if schedule[slot] is None:\n",
    "                schedule[slot]=j[0]\n",
    "                total_profit+=j[2]\n",
    "                break\n",
    "            slot-=1\n",
    "\n",
    "    return schedule,total_profit\n",
    "\n",
    "schedule,profit=job_sequencing()\n",
    "print(schedule)\n",
    "print(profit)\n"
   ]
  },
  {
   "cell_type": "code",
   "execution_count": null,
   "id": "e467af4b-fc7a-455a-8892-90a598fbfda2",
   "metadata": {},
   "outputs": [],
   "source": []
  }
 ],
 "metadata": {
  "kernelspec": {
   "display_name": "Python 3 (ipykernel)",
   "language": "python",
   "name": "python3"
  },
  "language_info": {
   "codemirror_mode": {
    "name": "ipython",
    "version": 3
   },
   "file_extension": ".py",
   "mimetype": "text/x-python",
   "name": "python",
   "nbconvert_exporter": "python",
   "pygments_lexer": "ipython3",
   "version": "3.10.6"
  }
 },
 "nbformat": 4,
 "nbformat_minor": 5
}
