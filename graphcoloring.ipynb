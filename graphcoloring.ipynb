{
 "cells": [
  {
   "cell_type": "code",
   "execution_count": 7,
   "id": "23856bb5-2c2c-4390-b49f-2589171a1435",
   "metadata": {},
   "outputs": [
    {
     "name": "stdout",
     "output_type": "stream",
     "text": [
      "color to vertex  0  is :  0\n",
      "color to vertex  1  is :  1\n",
      "color to vertex  2  is :  2\n",
      "color to vertex  3  is :  1\n",
      "Solution Exists\n"
     ]
    }
   ],
   "source": [
    "\n",
    "def printconfig(coloring_array):\n",
    "    for i in range(4):\n",
    "        print(\"color to vertex \", i, \" is : \", coloring_array[i])\n",
    "\n",
    "\n",
    "def issafe(graph, coloring_array):\n",
    "    for i in range(4):\n",
    "        for j in range(i+1, 4):\n",
    "            if graph[i][j] and coloring_array[i] == coloring_array[j]:\n",
    "                return False\n",
    "    return True\n",
    "\n",
    "\n",
    "def graphcolor(graph, m, coloring_array, vertex):\n",
    "    if vertex == 4:\n",
    "        if issafe(graph, coloring_array):\n",
    "            printconfig(coloring_array)\n",
    "            return True\n",
    "        return False\n",
    "\n",
    "    for i in range(m):\n",
    "        coloring_array[vertex] = i\n",
    "        if graphcolor(graph, m, coloring_array, vertex+1):\n",
    "            return True\n",
    "        coloring_array[vertex] =0\n",
    "    return False\n",
    "\n",
    "\n",
    "\n",
    "\n",
    "graph = [[0, 1, 1, 1],\n",
    "         [1, 0, 1, 0],\n",
    "         [1, 1, 0, 1],\n",
    "         [1, 0, 1, 0]]\n",
    "\n",
    "m = 3\n",
    "\n",
    "coloring_array = [0 for i in range(4)]\n",
    "vertex = 0\n",
    "\n",
    "if graphcolor(graph, m, coloring_array, vertex):\n",
    "    print(\"Solution Exists\")\n",
    "else:\n",
    "    print(\"solution not exist\")\n"
   ]
  },
  {
   "cell_type": "code",
   "execution_count": 1,
   "id": "b28ff26f-88ea-4e18-8400-b21d23670c0a",
   "metadata": {},
   "outputs": [
    {
     "name": "stdout",
     "output_type": "stream",
     "text": [
      "Solution exist and Following are the assigned colours:\n",
      "1 2 3 2 "
     ]
    },
    {
     "data": {
      "text/plain": [
       "True"
      ]
     },
     "execution_count": 1,
     "metadata": {},
     "output_type": "execute_result"
    }
   ],
   "source": [
    "no_vertices = 4\n",
    "m = 3\n",
    "graph = [[0, 1, 1, 1], \n",
    "         [1, 0, 1, 0], \n",
    "         [1, 1, 0, 1], \n",
    "         [1, 0, 1, 0]]\n",
    "\n",
    "def isSafe(v, colour_list, curr_color):\n",
    "    for i in range(no_vertices):\n",
    "        if graph[v][i] == 1 and colour_list[i] == curr_color:\n",
    "            return False\n",
    "    return True\n",
    "\n",
    "def graphColourUtil(m, colour_list, v):\n",
    "    if v == no_vertices: #base case \n",
    "        return True\n",
    "\n",
    "    for curr_color in range(1, m+1):\n",
    "        if isSafe(v, colour_list, curr_color) == True:\n",
    "            colour_list[v] = curr_color\n",
    "            \n",
    "            if graphColourUtil(m, colour_list, v + 1) == True:\n",
    "                return True\n",
    "            colour_list[v] = 0\n",
    "\n",
    "    return False\n",
    "\n",
    "def graphColouring(m):\n",
    "    colour_list = [0] * no_vertices\n",
    "    \n",
    "    if graphColourUtil(m, colour_list, 0) == False:\n",
    "        print(\"Solution does not exist\")\n",
    "        return False\n",
    "    \n",
    "    print(\"Solution exist and Following are the assigned colours:\")\n",
    "    for curr_color in colour_list:\n",
    "        print(curr_color, end=' ')\n",
    "    return True\n",
    "\n",
    "graphColouring(m)"
   ]
  },
  {
   "cell_type": "code",
   "execution_count": 6,
   "id": "68af3b15-8002-4e56-bba6-ad45a6e63201",
   "metadata": {},
   "outputs": [
    {
     "name": "stdout",
     "output_type": "stream",
     "text": [
      "Graph Coloring Problem\n",
      "\n"
     ]
    },
    {
     "name": "stdin",
     "output_type": "stream",
     "text": [
      "Enter the number of vertices in the graph:  4\n",
      "Enter the number of edges in the graph:  0 1\n"
     ]
    },
    {
     "ename": "ValueError",
     "evalue": "invalid literal for int() with base 10: '0 1'",
     "output_type": "error",
     "traceback": [
      "\u001b[1;31m---------------------------------------------------------------------------\u001b[0m",
      "\u001b[1;31mValueError\u001b[0m                                Traceback (most recent call last)",
      "Cell \u001b[1;32mIn[6], line 62\u001b[0m\n\u001b[0;32m     58\u001b[0m     num_colors \u001b[38;5;241m=\u001b[39m \u001b[38;5;28mint\u001b[39m(\u001b[38;5;28minput\u001b[39m(\u001b[38;5;124m\"\u001b[39m\u001b[38;5;124mEnter the number of colors: \u001b[39m\u001b[38;5;124m\"\u001b[39m))\n\u001b[0;32m     60\u001b[0m     graph_coloring_branch_and_bound(graph, num_colors)\n\u001b[1;32m---> 62\u001b[0m \u001b[43mgraph_coloring_menu\u001b[49m\u001b[43m(\u001b[49m\u001b[43m)\u001b[49m\n",
      "Cell \u001b[1;32mIn[6], line 50\u001b[0m, in \u001b[0;36mgraph_coloring_menu\u001b[1;34m()\u001b[0m\n\u001b[0;32m     48\u001b[0m num_vertices \u001b[38;5;241m=\u001b[39m \u001b[38;5;28mint\u001b[39m(\u001b[38;5;28minput\u001b[39m(\u001b[38;5;124m\"\u001b[39m\u001b[38;5;124mEnter the number of vertices in the graph: \u001b[39m\u001b[38;5;124m\"\u001b[39m))\n\u001b[0;32m     49\u001b[0m graph \u001b[38;5;241m=\u001b[39m [[\u001b[38;5;241m0\u001b[39m \u001b[38;5;28;01mfor\u001b[39;00m _ \u001b[38;5;129;01min\u001b[39;00m \u001b[38;5;28mrange\u001b[39m(num_vertices)] \u001b[38;5;28;01mfor\u001b[39;00m _ \u001b[38;5;129;01min\u001b[39;00m \u001b[38;5;28mrange\u001b[39m(num_vertices)]\n\u001b[1;32m---> 50\u001b[0m num_edges \u001b[38;5;241m=\u001b[39m \u001b[38;5;28;43mint\u001b[39;49m\u001b[43m(\u001b[49m\u001b[38;5;28;43minput\u001b[39;49m\u001b[43m(\u001b[49m\u001b[38;5;124;43m\"\u001b[39;49m\u001b[38;5;124;43mEnter the number of edges in the graph: \u001b[39;49m\u001b[38;5;124;43m\"\u001b[39;49m\u001b[43m)\u001b[49m\u001b[43m)\u001b[49m\n\u001b[0;32m     52\u001b[0m \u001b[38;5;28;01mfor\u001b[39;00m _ \u001b[38;5;129;01min\u001b[39;00m \u001b[38;5;28mrange\u001b[39m(num_edges):\n\u001b[0;32m     53\u001b[0m     edge \u001b[38;5;241m=\u001b[39m \u001b[38;5;28minput\u001b[39m(\u001b[38;5;124m\"\u001b[39m\u001b[38;5;124mEnter an edge (0 1): \u001b[39m\u001b[38;5;124m\"\u001b[39m)\u001b[38;5;241m.\u001b[39msplit()\n",
      "\u001b[1;31mValueError\u001b[0m: invalid literal for int() with base 10: '0 1'"
     ]
    }
   ],
   "source": [
    "def is_safe(graph, v, color, colors):\n",
    "    for i in range(len(graph)):\n",
    "        if graph[v][i]==1 and colors[i] == color:\n",
    "            return False\n",
    "    return True\n",
    "\n",
    "def calculate_lower_bound(graph, colors, v):\n",
    "    # Count the number of unique colors used in the already colored vertices\n",
    "    used_colors = set()\n",
    "    for i in range(v):\n",
    "        if colors[i] != -1:\n",
    "            used_colors.add(colors[i])\n",
    "    return len(used_colors)\n",
    "\n",
    "\n",
    "def graph_coloring_branch_and_bound(graph, num_colors):\n",
    "    num_vertices = len(graph)\n",
    "    colors = [-1] * num_vertices\n",
    "\n",
    "    def graph_coloring_util(v):\n",
    "        if v == num_vertices:\n",
    "            return True\n",
    "\n",
    "        # Calculate the lower bound for the remaining vertices\n",
    "        lower_bound = calculate_lower_bound(graph, colors, v)\n",
    "\n",
    "        # Try assigning colors to the current vertex 'v'\n",
    "        for color in range(1, num_colors + 1):\n",
    "            if is_safe(graph, v, color, colors) and lower_bound < num_colors:\n",
    "                colors[v] = color\n",
    "\n",
    "                if graph_coloring_util(v + 1):\n",
    "                    return True\n",
    "\n",
    "                colors[v] = -1\n",
    "\n",
    "        return False\n",
    "\n",
    "    if graph_coloring_util(0):\n",
    "        print(\"Graph can be colored using\", num_colors, \"colors.\")\n",
    "        print(\"Coloring:\", colors)\n",
    "    else:\n",
    "        print(\"Graph cannot be colored using\", num_colors, \"colors.\")\n",
    "\n",
    "def graph_coloring_menu():\n",
    "    print(\"Graph Coloring Problem\\n\")\n",
    "\n",
    "    num_vertices = int(input(\"Enter the number of vertices in the graph: \"))\n",
    "    graph = [[0 for _ in range(num_vertices)] for _ in range(num_vertices)]\n",
    "    num_edges = int(input(\"Enter the number of edges in the graph: \"))\n",
    "\n",
    "    for _ in range(num_edges):\n",
    "        edge = input(\"Enter an edge (0 1): \").split()\n",
    "        u, v = int(edge[0]), int(edge[1])\n",
    "        graph[u][v] = 1\n",
    "        graph[v][u] = 1\n",
    "\n",
    "    num_colors = int(input(\"Enter the number of colors: \"))\n",
    "\n",
    "    graph_coloring_branch_and_bound(graph, num_colors)\n",
    "\n",
    "graph_coloring_menu()"
   ]
  },
  {
   "cell_type": "code",
   "execution_count": 5,
   "id": "ad697103-2287-4032-aaec-c3f8d1b849ec",
   "metadata": {},
   "outputs": [
    {
     "name": "stdout",
     "output_type": "stream",
     "text": [
      "Graph Coloring Problem\n",
      "\n"
     ]
    },
    {
     "name": "stdin",
     "output_type": "stream",
     "text": [
      "Enter the number of vertices in the graph :  3\n",
      "Enter the number of edges in the graph:  2\n",
      "Enter an edge (0 1):  0 1\n",
      "Enter an edge (0 1):  0 2\n",
      "Enter the number of colors:  2\n"
     ]
    },
    {
     "name": "stdout",
     "output_type": "stream",
     "text": [
      "Graph can be colored using 2 colors.\n",
      "Coloring: [1, 2, 2]\n"
     ]
    }
   ],
   "source": [
    "def is_safe(graph, v, color, colors):\n",
    "    for i in range(len(graph)):\n",
    "        if graph[v][i] == 1 and colors[i] == color:\n",
    "            return False\n",
    "    return True\n",
    "\n",
    "def graph_coloring_backtracking(graph, num_colors):\n",
    "    num_vertices = len(graph)\n",
    "    colors = [-1] * num_vertices\n",
    "\n",
    "    def graph_coloring_util(v):\n",
    "        if v == num_vertices:\n",
    "            return True\n",
    "\n",
    "        for color in range(1, num_colors + 1):\n",
    "            if is_safe(graph, v, color, colors):\n",
    "                colors[v] = color\n",
    "                if graph_coloring_util(v + 1):\n",
    "                    return True\n",
    "                colors[v] = -1\n",
    "\n",
    "        return False\n",
    "\n",
    "    if graph_coloring_util(0):\n",
    "        print(\"Graph can be colored using\", num_colors, \"colors.\")\n",
    "        print(\"Coloring:\", colors)\n",
    "    else:\n",
    "        print(\"Graph cannot be colored using\", num_colors, \"colors.\")\n",
    "\n",
    "def graph_coloring_menu():\n",
    "    print(\"Graph Coloring Problem\\n\")\n",
    "\n",
    "    num_vertices = int(input(\"Enter the number of vertices in the graph : \"))\n",
    "    graph = [[0 for _ in range(num_vertices)] for _ in range(num_vertices)]\n",
    "    num_edges = int(input(\"Enter the number of edges in the graph: \"))\n",
    "\n",
    "    for _ in range(num_edges):\n",
    "        edge = input(\"Enter an edge (0 1): \").split()\n",
    "        u, v = int(edge[0]), int(edge[1])\n",
    "        graph[u][v] = 1\n",
    "        graph[v][u] = 1\n",
    "\n",
    "    num_colors = int(input(\"Enter the number of colors: \"))\n",
    "\n",
    "    graph_coloring_backtracking(graph, num_colors)\n",
    "\n",
    "graph_coloring_menu()"
   ]
  },
  {
   "cell_type": "code",
   "execution_count": null,
   "id": "12ccf136-0938-4528-b8b4-d09b0fbcb7da",
   "metadata": {},
   "outputs": [],
   "source": []
  }
 ],
 "metadata": {
  "kernelspec": {
   "display_name": "Python 3 (ipykernel)",
   "language": "python",
   "name": "python3"
  },
  "language_info": {
   "codemirror_mode": {
    "name": "ipython",
    "version": 3
   },
   "file_extension": ".py",
   "mimetype": "text/x-python",
   "name": "python",
   "nbconvert_exporter": "python",
   "pygments_lexer": "ipython3",
   "version": "3.10.6"
  }
 },
 "nbformat": 4,
 "nbformat_minor": 5
}
