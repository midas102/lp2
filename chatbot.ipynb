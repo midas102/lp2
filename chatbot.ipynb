{
 "cells": [
  {
   "cell_type": "code",
   "execution_count": 5,
   "id": "eb90b87a-a6aa-48d8-a635-fe4643139c01",
   "metadata": {},
   "outputs": [],
   "source": [
    "import nltk\n",
    "from nltk.chat.util import Chat, reflections"
   ]
  },
  {
   "cell_type": "code",
   "execution_count": 3,
   "id": "a208f334-2783-48e3-b671-73da2bfcccfa",
   "metadata": {},
   "outputs": [],
   "source": [
    "pairs = [ \n",
    "            [\n",
    "                r\"hi|hello\",\n",
    "                [\"Hello How can I assit you?\"]\n",
    "            ]\n",
    "        ]"
   ]
  },
  {
   "cell_type": "code",
   "execution_count": null,
   "id": "de19c22f-c64d-441c-a8eb-e94aa18c3807",
   "metadata": {},
   "outputs": [],
   "source": [
    "def func():\n",
    "    ch = Chat(pairs)\n",
    "    ch.converse()\n",
    "if __name__==\"__main__\":\n",
    "    func()"
   ]
  }
 ],
 "metadata": {
  "kernelspec": {
   "display_name": "Python 3 (ipykernel)",
   "language": "python",
   "name": "python3"
  },
  "language_info": {
   "codemirror_mode": {
    "name": "ipython",
    "version": 3
   },
   "file_extension": ".py",
   "mimetype": "text/x-python",
   "name": "python",
   "nbconvert_exporter": "python",
   "pygments_lexer": "ipython3",
   "version": "3.10.6"
  }
 },
 "nbformat": 4,
 "nbformat_minor": 5
}
