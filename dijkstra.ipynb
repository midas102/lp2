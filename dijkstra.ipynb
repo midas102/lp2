{
 "cells": [
  {
   "cell_type": "code",
   "execution_count": null,
   "id": "487cb104-712d-411d-99ee-80c1cf1ef2aa",
   "metadata": {},
   "outputs": [],
   "source": [
    "import heapq\n",
    "\n",
    "def dijikstra(graph, start):\n",
    "    distances = {node: float('infinity') for node in graph} \n",
    "    distances[start] = 0\n",
    "    priority_queue = [(start, distances[start])]\n",
    "\n",
    "    while priority_queue:\n",
    "        curr_node, curr_dist = heapq.heappop(priority_queue)\n",
    "        if curr_dist > distances[curr_node]:\n",
    "            continue\n",
    "\n",
    "        for neighbor, weight in graph[curr_node]:\n",
    "            distance = weight + curr_dist\n",
    "            if distance < distances[neighbor]:\n",
    "                distances[neighbor] =  distance\n",
    "                heapq.heappush(priority_queue, (neighbor, distance))\n",
    "    return distances\n",
    "\n",
    "graph = {\n",
    "    'A': [('B', 5), ('C', 10)],\n",
    "    'B': [('A', 5), ('C', 8), ('D', 4)],\n",
    "    'C': [('A', 10), ('B', 8), ('D', 6)],\n",
    "    'D': [('B', 4), ('C', 6)]}\n",
    "\n",
    "start = \"A\"\n",
    "\n",
    "ans = dijikstra(graph, start)\n",
    "\n",
    "print(\"Start node: \", start)\n",
    "for node, val in ans.items():\n",
    "    print(\"To node \", node + \" : \", val)\n",
    "\n"
   ]
  }
 ],
 "metadata": {
  "kernelspec": {
   "display_name": "Python 3 (ipykernel)",
   "language": "python",
   "name": "python3"
  },
  "language_info": {
   "codemirror_mode": {
    "name": "ipython",
    "version": 3
   },
   "file_extension": ".py",
   "mimetype": "text/x-python",
   "name": "python",
   "nbconvert_exporter": "python",
   "pygments_lexer": "ipython3",
   "version": "3.10.6"
  }
 },
 "nbformat": 4,
 "nbformat_minor": 5
}
